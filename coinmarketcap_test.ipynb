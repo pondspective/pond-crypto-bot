{
 "cells": [
  {
   "cell_type": "code",
   "execution_count": 6,
   "metadata": {},
   "outputs": [
    {
     "ename": "NameError",
     "evalue": "name 'Path' is not defined",
     "output_type": "error",
     "traceback": [
      "\u001b[0;31m---------------------------------------------------------------------------\u001b[0m",
      "\u001b[0;31mNameError\u001b[0m                                 Traceback (most recent call last)",
      "\u001b[0;32m/var/folders/ql/z4z_zrlx7hg4zh3lbpprvnnm0000gp/T/ipykernel_72670/2433638339.py\u001b[0m in \u001b[0;36m<module>\u001b[0;34m\u001b[0m\n\u001b[1;32m      4\u001b[0m \u001b[0;32mimport\u001b[0m \u001b[0mjson\u001b[0m\u001b[0;34m\u001b[0m\u001b[0;34m\u001b[0m\u001b[0m\n\u001b[1;32m      5\u001b[0m \u001b[0;34m\u001b[0m\u001b[0m\n\u001b[0;32m----> 6\u001b[0;31m \u001b[0mload_dotenv\u001b[0m\u001b[0;34m(\u001b[0m\u001b[0mdotenv_path\u001b[0m\u001b[0;34m=\u001b[0m\u001b[0mPath\u001b[0m\u001b[0;34m(\u001b[0m\u001b[0;34m'./key/cred.yml'\u001b[0m\u001b[0;34m)\u001b[0m\u001b[0;34m)\u001b[0m\u001b[0;34m\u001b[0m\u001b[0;34m\u001b[0m\u001b[0m\n\u001b[0m\u001b[1;32m      7\u001b[0m \u001b[0;34m\u001b[0m\u001b[0m\n\u001b[1;32m      8\u001b[0m \u001b[0murl\u001b[0m \u001b[0;34m=\u001b[0m \u001b[0;34m'https://pro-api.coinmarketcap.com/v1/cryptocurrency/listings/latest'\u001b[0m\u001b[0;34m\u001b[0m\u001b[0;34m\u001b[0m\u001b[0m\n",
      "\u001b[0;31mNameError\u001b[0m: name 'Path' is not defined"
     ]
    }
   ],
   "source": [
    "from requests import Request, Session\n",
    "from requests.exceptions import ConnectionError, Timeout, TooManyRedirects\n",
    "from dotenv import load_dotenv\n",
    "import json\n",
    "\n",
    "load_dotenv(dotenv_path='./key/cred.yml')\n",
    "\n",
    "url = 'https://pro-api.coinmarketcap.com/v1/cryptocurrency/listings/latest'\n",
    "parameters = {\n",
    "  'start':'1',\n",
    "  'limit':'5000',\n",
    "  'convert':'USD'\n",
    "}\n",
    "headers = {\n",
    "  'Accepts': 'application/json',\n",
    "  'X-CMC_PRO_API_KEY': os.environ.get('CMC_API_TOKEN'),\n",
    "}\n",
    "\n",
    "session = Session()\n",
    "session.headers.update(headers)\n",
    "\n",
    "try:\n",
    "  response = session.get(url, params=parameters)\n",
    "  res = json.loads(response.text)\n",
    "  print(res)\n",
    "except (ConnectionError, Timeout, TooManyRedirects) as e:\n",
    "  print(e)"
   ]
  },
  {
   "cell_type": "code",
   "execution_count": 2,
   "metadata": {},
   "outputs": [
    {
     "name": "stderr",
     "output_type": "stream",
     "text": [
      "/Users/puvit/.pyenv/versions/3.9.4/lib/python3.9/site-packages/pandas/compat/__init__.py:124: UserWarning: Could not import the lzma module. Your installed Python is incomplete. Attempting to use lzma compression will result in a RuntimeError.\n",
      "  warnings.warn(msg)\n"
     ]
    }
   ],
   "source": [
    "import pandas as pd\n",
    "import numpy as np\n",
    "\n",
    "rows = []\n",
    "row = []\n",
    "data = res['data']\n",
    "\n",
    "for product in data :\n",
    "     # row['id'] = product['id']\n",
    "     # row['name'] = product['name']\n",
    "     # row['symbol'] = product['symbol']\n",
    "     # row['cmc_rank'] = product['cmc_rank']\n",
    "     # row['last_updated'] = product['last_updated']\n",
    "\n",
    "     quote = product['quote']['USD']\n",
    "     product['price_usd'] = quote['price']\n",
    "     product['volume_24h'] = quote['volume_24h']\n",
    "     product['volume_change_24h'] = quote['volume_change_24h']\n",
    "     product['percent_change_1h'] = quote['percent_change_1h']\n",
    "     product['percent_change_24h'] = quote['percent_change_24h']\n",
    "     product['percent_change_7d'] = quote['percent_change_7d']\n",
    "     product['percent_change_30d'] = quote['percent_change_30d']\n",
    "     product['market_cap'] = quote['market_cap']\n",
    "     product['market_cap_dominance'] = quote['market_cap_dominance']\n",
    "     product['fully_diluted_market_cap'] = quote['fully_diluted_market_cap']\n",
    "\n",
    "     rows.append(product)\n",
    "\n",
    "\n",
    "df = pd.DataFrame(rows)\n",
    "sel_cols = ['id', 'name', 'symbol', 'max_supply', 'circulating_supply', 'total_supply',\n",
    "       'cmc_rank', 'last_updated', 'price_usd', 'volume_24h',\n",
    "       'volume_change_24h', 'percent_change_1h', 'percent_change_24h',\n",
    "       'percent_change_7d', 'percent_change_30d', 'market_cap',\n",
    "       'market_cap_dominance', 'fully_diluted_market_cap']\n",
    "df = df[sel_cols]\n"
   ]
  },
  {
   "cell_type": "code",
   "execution_count": 3,
   "metadata": {},
   "outputs": [],
   "source": [
    "df['volume_24h_marketcap_ratio'] = df['volume_24h']/df['market_cap']\n",
    "df.to_csv('cmc.csv')"
   ]
  },
  {
   "cell_type": "code",
   "execution_count": null,
   "metadata": {},
   "outputs": [],
   "source": []
  }
 ],
 "metadata": {
  "interpreter": {
   "hash": "9264b75bb2ef536bb8172aae74f704ac3c7c86245c9a5a0583c5dc4d7cbcfecf"
  },
  "kernelspec": {
   "display_name": "Python 3.9.4 64-bit ('3.9.4': pyenv)",
   "language": "python",
   "name": "python3"
  },
  "language_info": {
   "codemirror_mode": {
    "name": "ipython",
    "version": 3
   },
   "file_extension": ".py",
   "mimetype": "text/x-python",
   "name": "python",
   "nbconvert_exporter": "python",
   "pygments_lexer": "ipython3",
   "version": "3.9.4"
  },
  "orig_nbformat": 4
 },
 "nbformat": 4,
 "nbformat_minor": 2
}
